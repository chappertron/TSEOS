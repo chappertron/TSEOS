{
    "cells": [
        {
            "cell_type": "code",
            "execution_count": 1,
            "source": [
                "%pylab inline\n",
                "\n",
                "import matplotlib.pyplot as plt\n",
                "\n",
                "import numpy as np\n",
                "\n",
                "import matplotlib as mpl\n",
                "\n"
            ],
            "outputs": [
                {
                    "output_type": "stream",
                    "name": "stdout",
                    "text": [
                        "Populating the interactive namespace from numpy and matplotlib\n"
                    ]
                }
            ],
            "metadata": {}
        },
        {
            "cell_type": "code",
            "execution_count": 2,
            "source": [
                "from gibbs import BiddleFreeEn"
            ],
            "outputs": [],
            "metadata": {}
        },
        {
            "cell_type": "code",
            "execution_count": 3,
            "source": [
                "bid = BiddleFreeEn()"
            ],
            "outputs": [],
            "metadata": {}
        },
        {
            "cell_type": "code",
            "execution_count": 4,
            "source": [
                "## todo, the optimum value of x always seems to be greater than 0\n",
                "\n",
                "\n",
                "\n",
                "presses = np.linspace(1,1.02,100)\n",
                "\n",
                "\n",
                "rho = bid.rho(300,presses)"
            ],
            "outputs": [
                {
                    "output_type": "stream",
                    "name": "stderr",
                    "text": [
                        "/home/aidan/my_gits/ts_eos/gibbs.py:62: RuntimeWarning: divide by zero encountered in log\n",
                        "  B = (x*np.log(x) + (1-x)*np.log(1-x))\n",
                        "/home/aidan/my_gits/ts_eos/gibbs.py:62: RuntimeWarning: invalid value encountered in double_scalars\n",
                        "  B = (x*np.log(x) + (1-x)*np.log(1-x))\n",
                        "/home/aidan/my_gits/ts_eos/gibbs.py:62: RuntimeWarning: invalid value encountered in log\n",
                        "  B = (x*np.log(x) + (1-x)*np.log(1-x))\n"
                    ]
                }
            ],
            "metadata": {}
        },
        {
            "cell_type": "code",
            "execution_count": 5,
            "source": [
                "rho"
            ],
            "outputs": [
                {
                    "output_type": "execute_result",
                    "data": {
                        "text/plain": [
                            "array([[nan, nan, nan, nan, nan, nan, nan, nan, nan, nan, nan, nan, nan,\n",
                            "        nan, nan, nan, nan, nan, nan, nan, nan, nan, nan, nan, nan, nan,\n",
                            "        nan, nan, nan, nan, nan, nan, nan, nan, nan, nan, nan, nan, nan,\n",
                            "        nan, nan, nan, nan, nan, nan, nan, nan, nan, nan, nan, nan, nan,\n",
                            "        nan, nan, nan, nan, nan, nan, nan, nan, nan, nan, nan, nan, nan,\n",
                            "        nan, nan, nan, nan, nan, nan, nan, nan, nan, nan, nan, nan, nan,\n",
                            "        nan, nan, nan, nan, nan, nan, nan, nan, nan, nan, nan, nan, nan,\n",
                            "        nan, nan, nan, nan, nan, nan, nan, nan, nan]])"
                        ]
                    },
                    "metadata": {},
                    "execution_count": 5
                }
            ],
            "metadata": {}
        },
        {
            "cell_type": "code",
            "execution_count": 6,
            "source": [
                "bid.x(np.array([300]),np.array([10000,20000]))"
            ],
            "outputs": [
                {
                    "output_type": "execute_result",
                    "data": {
                        "text/plain": [
                            "array([[2.61803396, 2.61803396]])"
                        ]
                    },
                    "metadata": {},
                    "execution_count": 6
                }
            ],
            "metadata": {}
        },
        {
            "cell_type": "code",
            "execution_count": null,
            "source": [],
            "outputs": [],
            "metadata": {}
        },
        {
            "cell_type": "code",
            "execution_count": null,
            "source": [],
            "outputs": [],
            "metadata": {}
        },
        {
            "cell_type": "code",
            "execution_count": null,
            "source": [],
            "outputs": [],
            "metadata": {}
        }
    ],
    "metadata": {
        "orig_nbformat": 4,
        "language_info": {
            "name": "python",
            "version": "3.8.8",
            "mimetype": "text/x-python",
            "codemirror_mode": {
                "name": "ipython",
                "version": 3
            },
            "pygments_lexer": "ipython3",
            "nbconvert_exporter": "python",
            "file_extension": ".py"
        },
        "kernelspec": {
            "name": "python3",
            "display_name": "Python 3.8.8 64-bit ('base': conda)"
        },
        "interpreter": {
            "hash": "3a8cc2776b16990b4ac6d24a474ffbfc00adea1676e36a887e376f20c43573cc"
        }
    },
    "nbformat": 4,
    "nbformat_minor": 2
}