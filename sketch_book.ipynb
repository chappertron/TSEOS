{
 "cells": [
  {
   "cell_type": "code",
   "execution_count": 1,
   "source": [
    "import numpy as  np\n",
    "\n",
    "from abc import ABC, abstractmethod\n",
    "\n"
   ],
   "outputs": [],
   "metadata": {}
  },
  {
   "cell_type": "code",
   "execution_count": 2,
   "source": [
    "class FreeEnergy(ABC):\n",
    "\n",
    "    @abstractmethod\n",
    "    def energy(self):\n",
    "        pass"
   ],
   "outputs": [],
   "metadata": {}
  },
  {
   "cell_type": "code",
   "execution_count": 3,
   "source": [
    "class IdealGibbs(FreeEnergy):\n",
    "    '''calculate the ideal solution gibbs free energy, takes x as a parameter\n",
    "'''\n",
    "    def __init__(self,omega=0):\n",
    "        \n",
    "        # set the non-deality parameter\n",
    "        self.omega = omega  \n",
    "    \n",
    "    def energy(self,T,x):\n",
    "        '''\n",
    "            Evaluate Free Energy of the nearly ideal liqud\n",
    "            given by \n",
    "            # unitless\n",
    "            G/(RT_c) = T^ (xln(x) + (1-x)ln(x) + omega*x*(1-x))\n",
    "        '''\n",
    "        return  T * (x*np.log(x) + (1-x)*np.log(x) + self.omega*x*(1-x)) \n",
    "    \n",
    "    \n",
    "    def opt_x(self,T):\n",
    "        '''Find the optimal value(s) of x for a given temperature'''\n",
    "        \n",
    "        pass"
   ],
   "outputs": [],
   "metadata": {}
  },
  {
   "cell_type": "code",
   "execution_count": 4,
   "source": [
    "coef_test = np.array([[0,2,4], \n",
    "                      [1,3,0],\n",
    "                      [5,0,0]])\n",
    "\n",
    "\n",
    "c=coef_test\n",
    "x=12\n",
    "y=12\n",
    "c[1,0]*x+c[0,1]*y+ c[1,1]*x*y+c[0,2]*y**2+c[2,0]*x**2"
   ],
   "outputs": [
    {
     "output_type": "execute_result",
     "data": {
      "text/plain": [
       "1764"
      ]
     },
     "metadata": {},
     "execution_count": 4
    }
   ],
   "metadata": {}
  },
  {
   "cell_type": "code",
   "execution_count": 5,
   "source": [
    "from numpy.polynomial import Polynomial\n",
    "from numpy.polynomial.polynomial import polyval2d,polyvander2d\n",
    "\n",
    "import numpy.polynomial.polynomial as poly \n",
    "\n",
    "\n",
    "print(polyval2d(x,y, coef_test))\n",
    "\n",
    "print(polyvander2d(x,y,[2,2]))\n",
    "\n",
    "\n",
    "\n",
    "class Poly2D:\n",
    "    def __init__(self,c):\n",
    "        \n",
    "        if len(c.shape) == 2:\n",
    "            self.coef = c\n",
    "            self.c = self.coef\n",
    "        else:\n",
    "            raise ValueError('Polynomial coefficients need to be a 2d array')\n",
    "        \n",
    "    def val(self,x,y,**kwargs):\n",
    "        return poly.polyval2d(x,y,self.coef,**kwargs)\n",
    "    \n",
    "    def deriv(self,m=1,scl=1,axis=0):\n",
    "        '''\n",
    "            m : int, optional\n",
    "                order of differntiation\n",
    "            scl : scalar, optional\n",
    "                scaling factor\n",
    "            axis : int\n",
    "                index of axis of differntiation\n",
    "        '''\n",
    "        return Poly2D(poly.polyder(self.coef,m=m,scl=scl,axis=axis))\n",
    "    \n",
    "    def integ(self,m=1, k=[], lbnd=0, scl=1, axis=0):\n",
    "        '''\n",
    "            m : int, optional\n",
    "                Integrate this many times\n",
    "            k : array_like, optional\n",
    "                constants of integration\n",
    "            axis = axis of integration\n",
    "        '''\n",
    "        \n",
    "        return Poly2D(poly.polyint(self,m=m,k=k,lbnd=lbnd,scl=scl,axis=axis))\n",
    "    \n",
    "    def grid(self,x,y):\n",
    "        return poly.polygrid2d(x,y,self.coef)\n",
    "    \n",
    "    def __call__(self,x,y):\n",
    "        return self.val(x,y)\n",
    "    def __repr__(self):\n",
    "        return '\\n'.join(['2D - Polynomial with coefficients: ', self.coef.__repr__()])\n",
    "    \n",
    "    ## Multiplying and adding not implemented\n",
    "    def __add__(self,other):\n",
    "        \n",
    "        return Poly2D(self.coef+other.coef)\n",
    "    def __sub__(self,other):\n",
    "        return Poly2D(self.coef-other.coef)\n",
    "    def __mul__(self,other):\n",
    "        raise NotImplementedError('2D polynomial multiplication not implemented')\n",
    "        #return Poly2D(poly.polymul(self.coef,other.coef))\n",
    "    def __div__(self,other):\n",
    "        raise NotImplementedError('2D polynomial division not implemented')\n",
    "\n",
    "        #return #Poly2D(poly.polydiv(self.coef,other.coef))"
   ],
   "outputs": [
    {
     "output_type": "stream",
     "name": "stdout",
     "text": [
      "1764.0\n",
      "[[1.0000e+00 1.2000e+01 1.4400e+02 1.2000e+01 1.4400e+02 1.7280e+03\n",
      "  1.4400e+02 1.7280e+03 2.0736e+04]]\n"
     ]
    }
   ],
   "metadata": {}
  },
  {
   "cell_type": "code",
   "execution_count": 6,
   "source": [
    "Polynomial([1,2,3]).integ\n",
    "Poly2D(coef_test) + Poly2D(coef_test) \n",
    "\n",
    "\n"
   ],
   "outputs": [
    {
     "output_type": "execute_result",
     "data": {
      "text/plain": [
       "2D - Polynomial with coefficients: \n",
       "array([[ 0,  4,  8],\n",
       "       [ 2,  6,  0],\n",
       "       [10,  0,  0]])"
      ]
     },
     "metadata": {},
     "execution_count": 6
    }
   ],
   "metadata": {}
  },
  {
   "cell_type": "code",
   "execution_count": 7,
   "source": [
    "x = np.linspace(0,100,1000)\n",
    "y = np.linspace(-50,50,250)\n",
    "Z = Poly2D(coef_test).grid(x,y)\n",
    "\n",
    "X,Y = np.meshgrid(x,y)\n",
    "\n"
   ],
   "outputs": [],
   "metadata": {}
  },
  {
   "cell_type": "code",
   "execution_count": null,
   "source": [
    "\n",
    "\n"
   ],
   "outputs": [],
   "metadata": {}
  },
  {
   "cell_type": "code",
   "execution_count": 8,
   "source": [
    "# from mpl_toolkits import mplot3d\n",
    "\n",
    "# import matplotlib as mpl\n",
    "# import matplotlib.pyplot as plt\n",
    "\n",
    "# fig = plt.figure()\n",
    "# ax = plt.axes(projection='3d')\n",
    "\n",
    "# ax.plot_surface(X,Y,Z.T)"
   ],
   "outputs": [],
   "metadata": {
    "scrolled": false
   }
  },
  {
   "cell_type": "code",
   "execution_count": 9,
   "source": [
    "\n",
    "class BMixingGibbs(IdealGibbs):\n",
    "    def __init__(self,G_BA,omega):\n",
    "        # pass the value of omega to the level above\n",
    "        super().__init__(omega)\n",
    "        self.G_BA = G_BA # assign the coefficient for G_BA\n",
    "        \n",
    "    def energy(self,T,x):\n",
    "        ''' As with ideal depends only on the free energy of the the above'''\n",
    "        \n",
    "        return self.G_BA * x + super().energy(T,x)\n",
    "    def x_equib(self,T):\n",
    "        raise NotImplementedError\n",
    "    \n",
    "class FinalMixingGibbs(FreeEnergy):\n",
    "    '''composes a BMixingGibbs object calculates G_BA on the fly?? - depends on pressure'''\n",
    "    \n",
    "    def __init__(self,poly_B:Poly2D,omega_func,Tc,Pc):\n",
    "        '''\n",
    "                poly_B = the polynomial form for the G_BA coefficient. 2d polynomial\n",
    "                \n",
    "                omega_func : function of T and deltaP, dimensionless, that gives omega\n",
    "                \n",
    "                Dimensionless:\n",
    "                Tc : float\n",
    "                    Critical temperature for l-l transiotn\n",
    "                Pc : float\n",
    "                    critical pressure for l-l transiton\n",
    "                \n",
    "\n",
    "        '''\n",
    "\n",
    "        self.poly_B = poly_B\n",
    "\n",
    "        self.omega_func = omega_func\n",
    "        self.Pc = Pc\n",
    "        self.Tc = Tc\n",
    "            \n",
    "    def energy(self,T,P):\n",
    "        '''\n",
    "            evaluate the temperature and pressure of the free energy\n",
    "        '''\n",
    "        \n",
    "        deltaT  = T - self.Tc\n",
    "        deltaP  = P-self.Pc\n",
    "        \n",
    "        ## initialise BMixingGibbs object with G_ba and omega\n",
    "        \n",
    "        bmixer = self.make_bmixer(T,P)\n",
    "       \n",
    "        \n",
    "        x = bmixer.x_equib(T,p)\n",
    "        \n",
    "        return bmixer.energy\n",
    "\n",
    "\n",
    "    def x_equib(self,T,P):\n",
    "\n",
    "        return make_bmixer(T,P).x_equib(T)\n",
    "\n",
    "    def make_bmixer(self,T,P) -> BMixingGibbs:\n",
    "        G_BA = self.poly_B(deltaT,deltaP)\n",
    "        omega = self.omega_func(T,deltaP)\n",
    "        bmixer = BMixingGibbs(G_BA,omega) \n",
    "        return bmixer"
   ],
   "outputs": [],
   "metadata": {}
  },
  {
   "cell_type": "code",
   "execution_count": 10,
   "source": [
    "class TSEOSFreeEnergy(FreeEnergy):\n",
    "\n",
    "    def energy(self):\n",
    "        pass\n",
    "    pass"
   ],
   "outputs": [],
   "metadata": {}
  },
  {
   "cell_type": "code",
   "execution_count": 11,
   "source": [
    "TSEOSFreeEnergy()"
   ],
   "outputs": [
    {
     "output_type": "execute_result",
     "data": {
      "text/plain": [
       "<__main__.TSEOSFreeEnergy at 0x7f2672487c70>"
      ]
     },
     "metadata": {},
     "execution_count": 11
    }
   ],
   "metadata": {}
  },
  {
   "cell_type": "code",
   "execution_count": 12,
   "source": [
    "#left_f = lambda x :\n",
    "\n",
    "G = +5 # G_BA/RT\n",
    "Tc = 182 # K\n",
    "Pc = 11700 # bar\n",
    "rhoc=1.017e6/(15.994+2*1.008) #mol m^-3\n",
    "R = 8.314 # J K^-1 mol^ -1\n",
    "\n",
    "delP = (1-1700)/(rhoc*Tc*R)\n",
    "T=900/182 \n",
    "w_0 = 0.03\n",
    "w = (2 +w_0*delP)/T\n",
    "print(w)\n",
    "\n",
    "the_f_to_min = lambda x :  np.log(x/1-x)  + G + w*(1-2*x)   \n",
    "\n",
    "the_f = lambda x : x*G + (x*np.log(x)+(1-x)*np.log(1-x)+w*x*(1-x))   #G/RT"
   ],
   "outputs": [
    {
     "output_type": "stream",
     "name": "stdout",
     "text": [
      "0.4044443238145733\n"
     ]
    }
   ],
   "metadata": {}
  },
  {
   "cell_type": "code",
   "execution_count": 13,
   "source": [
    "from scipy.optimize import fsolve"
   ],
   "outputs": [],
   "metadata": {}
  },
  {
   "cell_type": "code",
   "execution_count": 14,
   "source": [
    "import matplotlib.pyplot as plt"
   ],
   "outputs": [],
   "metadata": {}
  },
  {
   "cell_type": "code",
   "execution_count": 15,
   "source": [
    "x = np.linspace(0.0001,0.9999,1000)\n",
    "\n",
    "plt.plot(x,the_f(x))\n",
    "plt.axvline(0)\n",
    "plt.axvline(1)"
   ],
   "outputs": [
    {
     "output_type": "execute_result",
     "data": {
      "text/plain": [
       "<matplotlib.lines.Line2D at 0x7f26585a5af0>"
      ]
     },
     "metadata": {},
     "execution_count": 15
    },
    {
     "output_type": "display_data",
     "data": {
      "text/plain": [
       "<Figure size 432x288 with 1 Axes>"
      ],
      "image/png": "[encoded data removed]"
     },
     "metadata": {
      "needs_background": "light"
     }
    }
   ],
   "metadata": {}
  },
  {
   "cell_type": "code",
   "execution_count": 16,
   "source": [
    "the_grad = lambda x : np.gradient(the_f(x),x)"
   ],
   "outputs": [],
   "metadata": {}
  },
  {
   "cell_type": "code",
   "execution_count": 17,
   "source": [
    "plt. plot(x, the_grad(x))\n",
    "plt. axhline(0)"
   ],
   "outputs": [
    {
     "output_type": "execute_result",
     "data": {
      "text/plain": [
       "<matplotlib.lines.Line2D at 0x7f2658566280>"
      ]
     },
     "metadata": {},
     "execution_count": 17
    },
    {
     "output_type": "display_data",
     "data": {
      "text/plain": [
       "<Figure size 432x288 with 1 Axes>"
      ],
      "image/png": "[encoded data removed]"
     },
     "metadata": {
      "needs_background": "light"
     }
    }
   ],
   "metadata": {}
  },
  {
   "cell_type": "code",
   "execution_count": null,
   "source": [],
   "outputs": [],
   "metadata": {}
  },
  {
   "cell_type": "code",
   "execution_count": 18,
   "source": [
    "from gibbs import Bib"
   ],
   "outputs": [
    {
     "output_type": "error",
     "ename": "ImportError",
     "evalue": "cannot import name 'Bibble' from 'gibbs' (/home/aidan/my_gits/ts_eos/gibbs.py)",
     "traceback": [
      "\u001b[0;31m---------------------------------------------------------------------------\u001b[0m",
      "\u001b[0;31mImportError\u001b[0m                               Traceback (most recent call last)",
      "\u001b[0;32m<ipython-input-18-ca93560f5e5f>\u001b[0m in \u001b[0;36m<module>\u001b[0;34m\u001b[0m\n\u001b[0;32m----> 1\u001b[0;31m \u001b[0;32mfrom\u001b[0m \u001b[0mgibbs\u001b[0m \u001b[0;32mimport\u001b[0m \u001b[0mBibble\u001b[0m\u001b[0;34m\u001b[0m\u001b[0;34m\u001b[0m\u001b[0m\n\u001b[0m",
      "\u001b[0;31mImportError\u001b[0m: cannot import name 'Bibble' from 'gibbs' (/home/aidan/my_gits/ts_eos/gibbs.py)"
     ]
    }
   ],
   "metadata": {}
  },
  {
   "cell_type": "code",
   "execution_count": null,
   "source": [],
   "outputs": [],
   "metadata": {}
  },
  {
   "cell_type": "code",
   "execution_count": null,
   "source": [],
   "outputs": [],
   "metadata": {}
  },
  {
   "cell_type": "code",
   "execution_count": null,
   "source": [],
   "outputs": [],
   "metadata": {}
  },
  {
   "cell_type": "code",
   "execution_count": null,
   "source": [],
   "outputs": [],
   "metadata": {}
  },
  {
   "cell_type": "code",
   "execution_count": null,
   "source": [],
   "outputs": [],
   "metadata": {}
  },
  {
   "cell_type": "code",
   "execution_count": null,
   "source": [],
   "outputs": [],
   "metadata": {}
  },
  {
   "cell_type": "code",
   "execution_count": null,
   "source": [],
   "outputs": [],
   "metadata": {}
  },
  {
   "cell_type": "code",
   "execution_count": null,
   "source": [],
   "outputs": [],
   "metadata": {}
  }
 ],
 "metadata": {
  "interpreter": {
   "hash": "3a8cc2776b16990b4ac6d24a474ffbfc00adea1676e36a887e376f20c43573cc"
  },
  "kernelspec": {
   "name": "python3",
   "display_name": "Python 3.8.8 64-bit ('base': conda)"
  },
  "language_info": {
   "codemirror_mode": {
    "name": "ipython",
    "version": 3
   },
   "file_extension": ".py",
   "mimetype": "text/x-python",
   "name": "python",
   "nbconvert_exporter": "python",
   "pygments_lexer": "ipython3",
   "version": "3.8.8"
  }
 },
 "nbformat": 4,
 "nbformat_minor": 2
}